{
 "metadata": {
  "language_info": {
   "codemirror_mode": {
    "name": "ipython",
    "version": 3
   },
   "file_extension": ".py",
   "mimetype": "text/x-python",
   "name": "python",
   "nbconvert_exporter": "python",
   "pygments_lexer": "ipython3",
   "version": "3.9.5"
  },
  "orig_nbformat": 4,
  "kernelspec": {
   "name": "python3",
   "display_name": "Python 3.9.5 64-bit"
  },
  "interpreter": {
   "hash": "ac59ebe37160ed0dfa835113d9b8498d9f09ceb179beaac4002f036b9467c963"
  }
 },
 "nbformat": 4,
 "nbformat_minor": 2,
 "cells": [
  {
   "source": [
    "# Exploring Hacker News Post.\n",
    "\n",
    "Hacker News is a site started by the startup incubator Y Combinator, where user-submitted stories (known as \"posts\") are voted and commented upon, similar to reddit. Hacker News is extremely popular in technology and startup circles, and posts that make it to the top of Hacker News' listings can get hundreds of thousands of visitors as a result.\n",
    "\n",
    "Here is the link to download the [dataset](https://www.kaggle.com/hacker-news/hacker-news-posts) , but note that it has been reduced from almost 300,000 rows to approximately 20,000 rows by removing all submissions that did not receive any comments, and then randomly sampling from the remaining submissions. Below are descriptions of the columns:\n",
    "\n",
    "- id: The unique identifier from Hacker News for the post\n",
    "- title: The title of the post\n",
    "- url: The URL that the posts links to, if it the post has a URL\n",
    "- num_points: The number of points the post acquired, calculated as the - - - total number of upvotes minus the total number of downvotes\n",
    "- num_comments: The number of comments that were made on the post\n",
    "- author: The username of the person who submitted the post\n",
    "- created_at: The date and time at which the post was submitted\n",
    "\n",
    "### Objective :\n",
    "This site has many posts but in this project we want to compare and analyse two posts which start with Ask HN and Show HN.\n",
    "The Ask HN post asks the Hacker News community a question while the Show HN posts show the community a project.\n",
    "\n",
    "More Specifically we want to know :\n",
    "- Which post recieves more number of comments\n",
    "- The time in which the post recieves more comments on average\n"
   ],
   "cell_type": "markdown",
   "metadata": {}
  },
  {
   "cell_type": "code",
   "execution_count": 1,
   "metadata": {},
   "outputs": [],
   "source": [
    "# importing the dependencies\n",
    "\n",
    "from csv import reader\n",
    "import datetime as dt"
   ]
  },
  {
   "source": [
    "## Reading the data."
   ],
   "cell_type": "markdown",
   "metadata": {}
  },
  {
   "source": [
    "Firstly, let's read the dataset and display the first 5 rows"
   ],
   "cell_type": "markdown",
   "metadata": {}
  },
  {
   "cell_type": "code",
   "execution_count": 2,
   "metadata": {},
   "outputs": [],
   "source": [
    "# Reading the dataset\n",
    "\n",
    "# from csv import reader\n",
    "opened_file = open('hacker_news.csv')\n",
    "read_file = reader(opened_file)\n",
    "hn = list(read_file)"
   ]
  },
  {
   "source": [
    "## Removing Headers From List of Lists"
   ],
   "cell_type": "markdown",
   "metadata": {}
  },
  {
   "cell_type": "code",
   "execution_count": 3,
   "metadata": {},
   "outputs": [],
   "source": [
    "hn_headers = hn[0]\n",
    "hn_data = hn[1:]"
   ]
  },
  {
   "source": [
    "# displying the headers\n",
    "hn_headers"
   ],
   "cell_type": "code",
   "metadata": {},
   "execution_count": 4,
   "outputs": [
    {
     "output_type": "execute_result",
     "data": {
      "text/plain": [
       "['id', 'title', 'url', 'num_points', 'num_comments', 'author', 'created_at']"
      ]
     },
     "metadata": {},
     "execution_count": 4
    }
   ]
  },
  {
   "cell_type": "code",
   "execution_count": 5,
   "metadata": {},
   "outputs": [
    {
     "output_type": "execute_result",
     "data": {
      "text/plain": [
       "[['12224879',\n",
       "  'Interactive Dynamic Video',\n",
       "  'http://www.interactivedynamicvideo.com/',\n",
       "  '386',\n",
       "  '52',\n",
       "  'ne0phyte',\n",
       "  '8/4/2016 11:52'],\n",
       " ['10975351',\n",
       "  'How to Use Open Source and Shut the Fuck Up at the Same Time',\n",
       "  'http://hueniverse.com/2016/01/26/how-to-use-open-source-and-shut-the-fuck-up-at-the-same-time/',\n",
       "  '39',\n",
       "  '10',\n",
       "  'josep2',\n",
       "  '1/26/2016 19:30'],\n",
       " ['11964716',\n",
       "  \"Florida DJs May Face Felony for April Fools' Water Joke\",\n",
       "  'http://www.thewire.com/entertainment/2013/04/florida-djs-april-fools-water-joke/63798/',\n",
       "  '2',\n",
       "  '1',\n",
       "  'vezycash',\n",
       "  '6/23/2016 22:20'],\n",
       " ['11919867',\n",
       "  'Technology ventures: From Idea to Enterprise',\n",
       "  'https://www.amazon.com/Technology-Ventures-Enterprise-Thomas-Byers/dp/0073523429',\n",
       "  '3',\n",
       "  '1',\n",
       "  'hswarna',\n",
       "  '6/17/2016 0:01'],\n",
       " ['10301696',\n",
       "  'Note by Note: The Making of Steinway L1037 (2007)',\n",
       "  'http://www.nytimes.com/2007/11/07/movies/07stein.html?_r=0',\n",
       "  '8',\n",
       "  '2',\n",
       "  'walterbell',\n",
       "  '9/30/2015 4:12']]"
      ]
     },
     "metadata": {},
     "execution_count": 5
    }
   ],
   "source": [
    "# displaying first 5 rows\n",
    "hn_data[0:5]"
   ]
  },
  {
   "source": [
    "## Extracting Ask HN and Show HN Posts"
   ],
   "cell_type": "markdown",
   "metadata": {}
  },
  {
   "source": [
    "As stated in the begining one of our goal is to compare the Ask HN and Show HN posts to see which of these two type of posts has more number of comments. \n",
    "Hence it would be a lot easier if we just seperate the data into these two types of posts respectively."
   ],
   "cell_type": "markdown",
   "metadata": {}
  },
  {
   "cell_type": "code",
   "execution_count": 6,
   "metadata": {},
   "outputs": [
    {
     "output_type": "stream",
     "name": "stdout",
     "text": [
      "Number Of Ask Posts : 1744\nNumber Of Show Posts : 1162\nNumber Of Other Posts : 17194\n"
     ]
    }
   ],
   "source": [
    "ask_posts = []\n",
    "show_posts = []\n",
    "other_posts = []\n",
    "\n",
    "for row in hn_data:\n",
    "    title = row[1]\n",
    "    if title.lower().startswith('ask hn'):\n",
    "        ask_posts.append(row)\n",
    "    elif title.lower().startswith('show hn'):\n",
    "        show_posts.append(row)\n",
    "    else:\n",
    "        other_posts.append(row)\n",
    "\n",
    "print('Number Of Ask Posts : {}'.format(len(ask_posts)))\n",
    "print('Number Of Show Posts : {}'.format(len(show_posts)))\n",
    "print('Number Of Other Posts : {}'.format(len(other_posts)))"
   ]
  },
  {
   "source": [
    "we can see that there are 1744 Ask hn posts and 1162 Show Hn posts,\n",
    "\n",
    "Now that we have segregated the posts it is easier to calculate the total and average comments for the two posts."
   ],
   "cell_type": "markdown",
   "metadata": {}
  },
  {
   "source": [
    "## Calculating the Average Number of Comments for Ask HN and Show HN Posts"
   ],
   "cell_type": "markdown",
   "metadata": {}
  },
  {
   "cell_type": "code",
   "execution_count": 7,
   "metadata": {},
   "outputs": [
    {
     "output_type": "execute_result",
     "data": {
      "text/plain": [
       "['id', 'title', 'url', 'num_points', 'num_comments', 'author', 'created_at']"
      ]
     },
     "metadata": {},
     "execution_count": 7
    }
   ],
   "source": [
    "hn_headers"
   ]
  },
  {
   "cell_type": "code",
   "execution_count": 8,
   "metadata": {},
   "outputs": [
    {
     "output_type": "stream",
     "name": "stdout",
     "text": [
      "Total Comments On Ask Hn Posts : 24,483\nAverage Comments On Ask Hn Posts : 14.04\n"
     ]
    }
   ],
   "source": [
    "# ask hn posts\n",
    "\n",
    "# total comments\n",
    "total_ask_comments = 0\n",
    "\n",
    "for post in ask_posts:\n",
    "    num_comments = int(post[4])\n",
    "    total_ask_comments += num_comments\n",
    "\n",
    "# average comments\n",
    "average_ask_comments = total_ask_comments/len(ask_posts)\n",
    "\n",
    "print('Total Comments On Ask Hn Posts : {:,}'.format(total_ask_comments))\n",
    "print('Average Comments On Ask Hn Posts : {:.2f}'.format(average_ask_comments))"
   ]
  },
  {
   "cell_type": "code",
   "execution_count": 9,
   "metadata": {},
   "outputs": [
    {
     "output_type": "stream",
     "name": "stdout",
     "text": [
      "Total Comments On Show Hn Posts : 11,988\n",
      "Average Comments On Show Hn Posts : 10.32\n"
     ]
    }
   ],
   "source": [
    "# show hn posts\n",
    "\n",
    "# total comments\n",
    "total_show_comments = 0\n",
    "\n",
    "for post in show_posts:\n",
    "    num_comments = int(post[4])\n",
    "    total_show_comments += num_comments\n",
    "\n",
    "# average comments\n",
    "average_show_comments = total_show_comments/len(show_posts)\n",
    "\n",
    "print('Total Comments On Show Hn Posts : {:,}'.format(total_show_comments))\n",
    "print('Average Comments On Show Hn Posts : {:.2f}'.format(average_show_comments))"
   ]
  },
  {
   "source": [
    "Now we know thaa on average a Ask post on Hacker News recieves more comments than the Show post.\n",
    "\n",
    "Lets do further analysis on the Ask Hn posts."
   ],
   "cell_type": "markdown",
   "metadata": {}
  },
  {
   "source": [
    "## Finding the Amount of Ask Posts and Comments by Hour Created"
   ],
   "cell_type": "markdown",
   "metadata": {}
  },
  {
   "source": [
    "Now our focus is in determining the hour/time in which an Ask HN post might receive maximum comments.\n",
    "\n",
    "Lets try to find out the number of posts created at each hour of the day and also the number of comments these posts received."
   ],
   "cell_type": "markdown",
   "metadata": {}
  },
  {
   "cell_type": "code",
   "execution_count": 10,
   "metadata": {},
   "outputs": [
    {
     "output_type": "execute_result",
     "data": {
      "text/plain": [
       "['id', 'title', 'url', 'num_points', 'num_comments', 'author', 'created_at']"
      ]
     },
     "metadata": {},
     "execution_count": 10
    }
   ],
   "source": [
    "hn_headers"
   ]
  },
  {
   "cell_type": "code",
   "execution_count": 11,
   "metadata": {},
   "outputs": [
    {
     "output_type": "stream",
     "name": "stdout",
     "text": [
      "[['8/16/2016 9:55', 6], ['11/22/2015 13:43', 29], ['5/2/2016 10:14', 1], ['8/2/2016 14:20', 3], ['10/15/2015 16:38', 17], ['9/26/2015 23:23', 1], ['4/22/2016 12:24', 4], ['11/16/2015 9:22', 1], ['2/24/2016 17:57', 1], ['6/4/2016 17:17', 2]]\n"
     ]
    }
   ],
   "source": [
    "# list of hour with comments for each post\n",
    "comments_by_hour = []\n",
    "\n",
    "for post in ask_posts:\n",
    "    created_at = post[-1]\n",
    "    num_comments = int(post[4])\n",
    "    comments_by_hour.append([created_at, num_comments])\n",
    "\n",
    "print(comments_by_hour[0:10])"
   ]
  },
  {
   "cell_type": "code",
   "execution_count": 12,
   "metadata": {},
   "outputs": [],
   "source": [
    "# count of post by hour\n",
    "# count of comment by hour\n",
    "\n",
    "# import datetime as dt\n",
    "\n",
    "count_post_by_hour = {}\n",
    "count_comments_by_hour = {}\n",
    "\n",
    "for list in comments_by_hour:\n",
    "    date = list[0]\n",
    "    comment = list[1]\n",
    "    date = dt.datetime.strptime(date, '%m/%d/%Y %H:%M')\n",
    "    hour = date.strftime('%H')\n",
    "    if hour not in count_post_by_hour:\n",
    "        count_post_by_hour[hour] = 1\n",
    "        count_comments_by_hour[hour] = comment\n",
    "    elif hour in count_post_by_hour:\n",
    "        count_post_by_hour[hour] += 1\n",
    "        count_comments_by_hour[hour] += comment"
   ]
  },
  {
   "cell_type": "code",
   "execution_count": 13,
   "metadata": {},
   "outputs": [
    {
     "output_type": "execute_result",
     "data": {
      "text/plain": [
       "{'09': 45,\n",
       " '13': 85,\n",
       " '10': 59,\n",
       " '14': 107,\n",
       " '16': 108,\n",
       " '23': 68,\n",
       " '12': 73,\n",
       " '17': 100,\n",
       " '15': 116,\n",
       " '21': 109,\n",
       " '20': 80,\n",
       " '02': 58,\n",
       " '18': 109,\n",
       " '03': 54,\n",
       " '05': 46,\n",
       " '19': 110,\n",
       " '01': 60,\n",
       " '22': 71,\n",
       " '08': 48,\n",
       " '04': 47,\n",
       " '00': 55,\n",
       " '06': 44,\n",
       " '07': 34,\n",
       " '11': 58}"
      ]
     },
     "metadata": {},
     "execution_count": 13
    }
   ],
   "source": [
    "# displaying nuber of posts created by hour\n",
    "\n",
    "count_post_by_hour"
   ]
  },
  {
   "cell_type": "code",
   "execution_count": 14,
   "metadata": {},
   "outputs": [
    {
     "output_type": "execute_result",
     "data": {
      "text/plain": [
       "{'09': 251,\n",
       " '13': 1253,\n",
       " '10': 793,\n",
       " '14': 1416,\n",
       " '16': 1814,\n",
       " '23': 543,\n",
       " '12': 687,\n",
       " '17': 1146,\n",
       " '15': 4477,\n",
       " '21': 1745,\n",
       " '20': 1722,\n",
       " '02': 1381,\n",
       " '18': 1439,\n",
       " '03': 421,\n",
       " '05': 464,\n",
       " '19': 1188,\n",
       " '01': 683,\n",
       " '22': 479,\n",
       " '08': 492,\n",
       " '04': 337,\n",
       " '00': 447,\n",
       " '06': 397,\n",
       " '07': 267,\n",
       " '11': 641}"
      ]
     },
     "metadata": {},
     "execution_count": 14
    }
   ],
   "source": [
    "# displaying count of comments by hour\n",
    "\n",
    "count_comments_by_hour"
   ]
  },
  {
   "source": [
    "## Calculating the Average Number of Comments for Ask HN Posts by Hour"
   ],
   "cell_type": "markdown",
   "metadata": {}
  },
  {
   "source": [
    "Now that we have the dictionaries containing the number of comments during the hours and the number of posts during the hours of the day, let's calculate the Average number of comments for the posts by hour."
   ],
   "cell_type": "markdown",
   "metadata": {}
  },
  {
   "cell_type": "code",
   "execution_count": 15,
   "metadata": {},
   "outputs": [],
   "source": [
    "avg_comments_by_hour = []\n",
    "\n",
    "for hour in count_comments_by_hour:\n",
    "    avg_comments_by_hour.append([hour, count_comments_by_hour[hour]/count_post_by_hour[hour]])"
   ]
  },
  {
   "cell_type": "code",
   "execution_count": 16,
   "metadata": {},
   "outputs": [
    {
     "output_type": "execute_result",
     "data": {
      "text/plain": [
       "[['09', 5.5777777777777775],\n",
       " ['13', 14.741176470588234],\n",
       " ['10', 13.440677966101696],\n",
       " ['14', 13.233644859813085],\n",
       " ['16', 16.796296296296298],\n",
       " ['23', 7.985294117647059],\n",
       " ['12', 9.41095890410959],\n",
       " ['17', 11.46],\n",
       " ['15', 38.5948275862069],\n",
       " ['21', 16.009174311926607],\n",
       " ['20', 21.525],\n",
       " ['02', 23.810344827586206],\n",
       " ['18', 13.20183486238532],\n",
       " ['03', 7.796296296296297],\n",
       " ['05', 10.08695652173913],\n",
       " ['19', 10.8],\n",
       " ['01', 11.383333333333333],\n",
       " ['22', 6.746478873239437],\n",
       " ['08', 10.25],\n",
       " ['04', 7.170212765957447],\n",
       " ['00', 8.127272727272727],\n",
       " ['06', 9.022727272727273],\n",
       " ['07', 7.852941176470588],\n",
       " ['11', 11.051724137931034]]"
      ]
     },
     "metadata": {},
     "execution_count": 16
    }
   ],
   "source": [
    "# displying the average comment for a post in a hour\n",
    "\n",
    "avg_comments_by_hour\n"
   ]
  },
  {
   "source": [
    "## Sorting and Printing Values from a List of Lists"
   ],
   "cell_type": "markdown",
   "metadata": {}
  },
  {
   "source": [
    "Because the Average comments by hour is in the list of list format we can swap the position of the hour and aveage comments so that we can sort the comments in a descending order inorder to know that time in which the Ask HN posts recieved more comments."
   ],
   "cell_type": "markdown",
   "metadata": {}
  },
  {
   "cell_type": "code",
   "execution_count": 17,
   "metadata": {},
   "outputs": [
    {
     "output_type": "stream",
     "name": "stdout",
     "text": [
      "[[38.5948275862069, '15'], [23.810344827586206, '02'], [21.525, '20'], [16.796296296296298, '16'], [16.009174311926607, '21'], [14.741176470588234, '13'], [13.440677966101696, '10'], [13.233644859813085, '14'], [13.20183486238532, '18'], [11.46, '17'], [11.383333333333333, '01'], [11.051724137931034, '11'], [10.8, '19'], [10.25, '08'], [10.08695652173913, '05'], [9.41095890410959, '12'], [9.022727272727273, '06'], [8.127272727272727, '00'], [7.985294117647059, '23'], [7.852941176470588, '07'], [7.796296296296297, '03'], [7.170212765957447, '04'], [6.746478873239437, '22'], [5.5777777777777775, '09']]\n"
     ]
    }
   ],
   "source": [
    "# Swapping the positions of the hour and average comments\n",
    "swap_avg = []\n",
    "for list in avg_comments_by_hour:\n",
    "    swap_avg.append([list[1], list[0]])\n",
    "    \n",
    "    # sorting the average comments in a descending order\n",
    "    sorted_swap_avg = sorted(swap_avg, reverse=True)\n",
    "\n",
    "print(sorted_swap_avg)"
   ]
  },
  {
   "cell_type": "code",
   "execution_count": 18,
   "metadata": {},
   "outputs": [
    {
     "output_type": "stream",
     "name": "stdout",
     "text": [
      "Best Hours To Get More Comments On Ask Post \n",
      "\n",
      "15:00 :  38.59 average comments per post\n",
      "02:00 :  23.81 average comments per post\n",
      "20:00 :  21.52 average comments per post\n",
      "16:00 :  16.80 average comments per post\n",
      "21:00 :  16.01 average comments per post\n"
     ]
    }
   ],
   "source": [
    "# displaying top 5 hours to get more comments on a ask post\n",
    "\n",
    "print('Best Hours To Get More Comments On Ask Post','\\n')\n",
    "\n",
    "for average, hour in sorted_swap_avg[0:5]:\n",
    "    print('{h} :  {a:.2f} average comments per post'.format(h= dt.datetime.strptime(hour, '%H').strftime('%H:%M'), a=average))"
   ]
  },
  {
   "source": [
    "We can see that the posts made during the time 15:00 (3:00 Pm) received an average of 38.59 comments per post."
   ],
   "cell_type": "markdown",
   "metadata": {}
  },
  {
   "source": [
    "## Conclusion\n"
   ],
   "cell_type": "markdown",
   "metadata": {}
  },
  {
   "source": [
    "In this project we analyzed the Ask HN posts and Show HN posts from the Hacker News Posts to determine which of these two types of posts receive more comments on average and also to determine the suitable time to create the post inorder to get maximum comments.\n",
    "\n",
    "Based on our analysis it is clear that the Ask HN posts recieved more comments on average compared to the Show HN posts and Ask HN posts created between 15:00 and 16:00 (3:00 pm and 5:00 pm) recieved more comments on average.\n",
    "\n"
   ],
   "cell_type": "markdown",
   "metadata": {}
  }
 ]
}